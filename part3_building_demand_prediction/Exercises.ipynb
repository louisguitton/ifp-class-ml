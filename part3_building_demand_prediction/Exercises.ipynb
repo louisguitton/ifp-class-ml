{
 "cells": [
  {
   "cell_type": "code",
   "execution_count": 1,
   "metadata": {
    "collapsed": true
   },
   "outputs": [],
   "source": [
    "%matplotlib inline \n",
    "\n",
    "import numpy as np\n",
    "import numpy.linalg as lin # module for performing linear algebra operations\n",
    "import pandas as pd # pandas\n",
    "from sklearn.linear_model import LinearRegression\n",
    "import datetime as dt # module for manipulating dates and times\n",
    "from __future__ import division\n",
    "import matplotlib\n",
    "import matplotlib.pyplot as plt # module for plotting \n",
    "import pprint\n",
    "pp = pprint.PrettyPrinter()\n",
    "\n",
    "matplotlib.pyplot.style.use('seaborn')"
   ]
  },
  {
   "cell_type": "code",
   "execution_count": 2,
   "metadata": {
    "collapsed": true
   },
   "outputs": [],
   "source": [
    "from helpers.plot import relationship_plot\n",
    "from helpers.data import df, column_details"
   ]
  },
  {
   "cell_type": "code",
   "execution_count": 3,
   "metadata": {
    "collapsed": false
   },
   "outputs": [
    {
     "data": {
      "text/html": [
       "<div>\n",
       "<style scoped>\n",
       "    .dataframe tbody tr th:only-of-type {\n",
       "        vertical-align: middle;\n",
       "    }\n",
       "\n",
       "    .dataframe tbody tr th {\n",
       "        vertical-align: top;\n",
       "    }\n",
       "\n",
       "    .dataframe thead th {\n",
       "        text-align: right;\n",
       "    }\n",
       "</style>\n",
       "<table border=\"1\" class=\"dataframe\">\n",
       "  <thead>\n",
       "    <tr style=\"text-align: right;\">\n",
       "      <th></th>\n",
       "      <th>electricity-kWh</th>\n",
       "      <th>chilledWater-TonDays</th>\n",
       "      <th>steam-LBS</th>\n",
       "      <th>RH-%</th>\n",
       "      <th>T-C</th>\n",
       "      <th>Tdew-C</th>\n",
       "      <th>pressure-mbar</th>\n",
       "      <th>solarRadiation-W/m2</th>\n",
       "      <th>windDirection</th>\n",
       "      <th>windSpeed-m/s</th>\n",
       "      <th>humidityRatio-kg/kg</th>\n",
       "      <th>coolingDegrees</th>\n",
       "      <th>heatingDegrees</th>\n",
       "      <th>dehumidification</th>\n",
       "      <th>occupancy</th>\n",
       "      <th>weekday</th>\n",
       "      <th>day</th>\n",
       "      <th>week</th>\n",
       "    </tr>\n",
       "    <tr>\n",
       "      <th>index</th>\n",
       "      <th></th>\n",
       "      <th></th>\n",
       "      <th></th>\n",
       "      <th></th>\n",
       "      <th></th>\n",
       "      <th></th>\n",
       "      <th></th>\n",
       "      <th></th>\n",
       "      <th></th>\n",
       "      <th></th>\n",
       "      <th></th>\n",
       "      <th></th>\n",
       "      <th></th>\n",
       "      <th></th>\n",
       "      <th></th>\n",
       "      <th></th>\n",
       "      <th></th>\n",
       "      <th></th>\n",
       "    </tr>\n",
       "  </thead>\n",
       "  <tbody>\n",
       "    <tr>\n",
       "      <th>2012-01-01</th>\n",
       "      <td>2800.244977</td>\n",
       "      <td>0.961857</td>\n",
       "      <td>17256.468099</td>\n",
       "      <td>76.652174</td>\n",
       "      <td>7.173913</td>\n",
       "      <td>3.073913</td>\n",
       "      <td>1004.956522</td>\n",
       "      <td>95.260870</td>\n",
       "      <td>236.086957</td>\n",
       "      <td>4.118361</td>\n",
       "      <td>0.004796</td>\n",
       "      <td>0.0</td>\n",
       "      <td>7.826087</td>\n",
       "      <td>0.0</td>\n",
       "      <td>0.0</td>\n",
       "      <td>6</td>\n",
       "      <td>1</td>\n",
       "      <td>52</td>\n",
       "    </tr>\n",
       "    <tr>\n",
       "      <th>2012-01-02</th>\n",
       "      <td>3168.974047</td>\n",
       "      <td>0.981725</td>\n",
       "      <td>17078.440755</td>\n",
       "      <td>55.958333</td>\n",
       "      <td>5.833333</td>\n",
       "      <td>-2.937500</td>\n",
       "      <td>994.625000</td>\n",
       "      <td>87.333333</td>\n",
       "      <td>253.750000</td>\n",
       "      <td>5.914357</td>\n",
       "      <td>0.003415</td>\n",
       "      <td>0.0</td>\n",
       "      <td>9.166667</td>\n",
       "      <td>0.0</td>\n",
       "      <td>0.3</td>\n",
       "      <td>0</td>\n",
       "      <td>2</td>\n",
       "      <td>1</td>\n",
       "    </tr>\n",
       "    <tr>\n",
       "      <th>2012-01-03</th>\n",
       "      <td>5194.533376</td>\n",
       "      <td>1.003672</td>\n",
       "      <td>59997.969401</td>\n",
       "      <td>42.500000</td>\n",
       "      <td>-3.208333</td>\n",
       "      <td>-12.975000</td>\n",
       "      <td>1002.125000</td>\n",
       "      <td>95.708333</td>\n",
       "      <td>302.916667</td>\n",
       "      <td>6.250005</td>\n",
       "      <td>0.001327</td>\n",
       "      <td>0.0</td>\n",
       "      <td>18.208333</td>\n",
       "      <td>0.0</td>\n",
       "      <td>0.3</td>\n",
       "      <td>1</td>\n",
       "      <td>3</td>\n",
       "      <td>1</td>\n",
       "    </tr>\n",
       "    <tr>\n",
       "      <th>2012-01-04</th>\n",
       "      <td>5354.861935</td>\n",
       "      <td>1.483192</td>\n",
       "      <td>56104.878906</td>\n",
       "      <td>41.541667</td>\n",
       "      <td>-7.083333</td>\n",
       "      <td>-16.958333</td>\n",
       "      <td>1008.250000</td>\n",
       "      <td>98.750000</td>\n",
       "      <td>286.666667</td>\n",
       "      <td>5.127319</td>\n",
       "      <td>0.000890</td>\n",
       "      <td>0.0</td>\n",
       "      <td>22.083333</td>\n",
       "      <td>0.0</td>\n",
       "      <td>0.3</td>\n",
       "      <td>2</td>\n",
       "      <td>4</td>\n",
       "      <td>1</td>\n",
       "    </tr>\n",
       "    <tr>\n",
       "      <th>2012-01-05</th>\n",
       "      <td>5496.223993</td>\n",
       "      <td>3.465091</td>\n",
       "      <td>45231.708984</td>\n",
       "      <td>46.916667</td>\n",
       "      <td>-0.583333</td>\n",
       "      <td>-9.866667</td>\n",
       "      <td>1002.041667</td>\n",
       "      <td>90.750000</td>\n",
       "      <td>258.333333</td>\n",
       "      <td>5.162041</td>\n",
       "      <td>0.001746</td>\n",
       "      <td>0.0</td>\n",
       "      <td>15.583333</td>\n",
       "      <td>0.0</td>\n",
       "      <td>0.3</td>\n",
       "      <td>3</td>\n",
       "      <td>5</td>\n",
       "      <td>1</td>\n",
       "    </tr>\n",
       "  </tbody>\n",
       "</table>\n",
       "</div>"
      ],
      "text/plain": [
       "            electricity-kWh  chilledWater-TonDays     steam-LBS       RH-%  \\\n",
       "index                                                                        \n",
       "2012-01-01      2800.244977              0.961857  17256.468099  76.652174   \n",
       "2012-01-02      3168.974047              0.981725  17078.440755  55.958333   \n",
       "2012-01-03      5194.533376              1.003672  59997.969401  42.500000   \n",
       "2012-01-04      5354.861935              1.483192  56104.878906  41.541667   \n",
       "2012-01-05      5496.223993              3.465091  45231.708984  46.916667   \n",
       "\n",
       "                 T-C     Tdew-C  pressure-mbar  solarRadiation-W/m2  \\\n",
       "index                                                                 \n",
       "2012-01-01  7.173913   3.073913    1004.956522            95.260870   \n",
       "2012-01-02  5.833333  -2.937500     994.625000            87.333333   \n",
       "2012-01-03 -3.208333 -12.975000    1002.125000            95.708333   \n",
       "2012-01-04 -7.083333 -16.958333    1008.250000            98.750000   \n",
       "2012-01-05 -0.583333  -9.866667    1002.041667            90.750000   \n",
       "\n",
       "            windDirection  windSpeed-m/s  humidityRatio-kg/kg  coolingDegrees  \\\n",
       "index                                                                           \n",
       "2012-01-01     236.086957       4.118361             0.004796             0.0   \n",
       "2012-01-02     253.750000       5.914357             0.003415             0.0   \n",
       "2012-01-03     302.916667       6.250005             0.001327             0.0   \n",
       "2012-01-04     286.666667       5.127319             0.000890             0.0   \n",
       "2012-01-05     258.333333       5.162041             0.001746             0.0   \n",
       "\n",
       "            heatingDegrees  dehumidification  occupancy  weekday  day  week  \n",
       "index                                                                        \n",
       "2012-01-01        7.826087               0.0        0.0        6    1    52  \n",
       "2012-01-02        9.166667               0.0        0.3        0    2     1  \n",
       "2012-01-03       18.208333               0.0        0.3        1    3     1  \n",
       "2012-01-04       22.083333               0.0        0.3        2    4     1  \n",
       "2012-01-05       15.583333               0.0        0.3        3    5     1  "
      ]
     },
     "execution_count": 3,
     "metadata": {},
     "output_type": "execute_result"
    }
   ],
   "source": [
    "df.head()"
   ]
  },
  {
   "cell_type": "markdown",
   "metadata": {},
   "source": [
    "**Exo 1: Plot the Weekly Electricity Consumption**\n",
    "\n",
    "indication: use the pandas.DataFrame.plot function"
   ]
  },
  {
   "cell_type": "code",
   "execution_count": null,
   "metadata": {
    "collapsed": true
   },
   "outputs": [],
   "source": []
  },
  {
   "cell_type": "markdown",
   "metadata": {},
   "source": [
    "**Exo 2: Plot the relationship between energy consumption and humidity.**\n",
    "\n",
    "indication: use the custom relationship_plot function\n",
    "\n",
    "indication: you can check what the function does by typing ??relationship_plot"
   ]
  },
  {
   "cell_type": "code",
   "execution_count": null,
   "metadata": {
    "collapsed": true
   },
   "outputs": [],
   "source": []
  },
  {
   "cell_type": "markdown",
   "metadata": {},
   "source": [
    "**Exo 3: Fit a Linear Regression to the electricity data given the time and occupancy and get its R²**\n",
    "\n",
    "indication: use the sklearn.linear_model.LinearRegression class\n",
    "\n",
    "indication: you can check the methods of the class with autocomplete\n"
   ]
  },
  {
   "cell_type": "code",
   "execution_count": 8,
   "metadata": {
    "collapsed": true
   },
   "outputs": [],
   "source": [
    "from helpers.data import train_test_split\n",
    "X = df[['weekday', 'day', 'week', 'occupancy']]\n",
    "y = df['electricity-kWh']\n",
    "X_train, X_test, y_train, y_test = train_test_split(X, y)"
   ]
  },
  {
   "cell_type": "code",
   "execution_count": null,
   "metadata": {
    "collapsed": true
   },
   "outputs": [],
   "source": []
  },
  {
   "cell_type": "markdown",
   "metadata": {},
   "source": [
    "**Exo 4: Fit a Linear Regression to the chilled water data given the time and occupancy and get its R²**\n",
    "\n",
    "indication: adapt the code from before\n"
   ]
  },
  {
   "cell_type": "code",
   "execution_count": null,
   "metadata": {
    "collapsed": true
   },
   "outputs": [],
   "source": []
  },
  {
   "cell_type": "code",
   "execution_count": null,
   "metadata": {
    "collapsed": true
   },
   "outputs": [],
   "source": []
  },
  {
   "cell_type": "markdown",
   "metadata": {},
   "source": [
    "**Exo 5: Fit a Linear Regression to the chilled water data using all features available and compare the R²**"
   ]
  },
  {
   "cell_type": "code",
   "execution_count": 9,
   "metadata": {
    "collapsed": true
   },
   "outputs": [],
   "source": [
    "all_features = [col for col in df.columns if col not in ['electricity-kWh', 'steam-LBS', 'chilledWater-TonDays']]"
   ]
  },
  {
   "cell_type": "code",
   "execution_count": null,
   "metadata": {
    "collapsed": true
   },
   "outputs": [],
   "source": []
  },
  {
   "cell_type": "markdown",
   "metadata": {},
   "source": [
    "**Exo 6: Fit a Linear Regression to the steam data and compare the R²**"
   ]
  },
  {
   "cell_type": "code",
   "execution_count": null,
   "metadata": {
    "collapsed": true
   },
   "outputs": [],
   "source": []
  },
  {
   "cell_type": "code",
   "execution_count": null,
   "metadata": {
    "collapsed": true
   },
   "outputs": [],
   "source": []
  },
  {
   "cell_type": "markdown",
   "metadata": {},
   "source": [
    "**(Bonus) Exo 7: How much improvement do we get for electricity by using all features?**"
   ]
  },
  {
   "cell_type": "code",
   "execution_count": null,
   "metadata": {
    "collapsed": true
   },
   "outputs": [],
   "source": []
  },
  {
   "cell_type": "code",
   "execution_count": null,
   "metadata": {
    "collapsed": true
   },
   "outputs": [],
   "source": []
  },
  {
   "cell_type": "markdown",
   "metadata": {},
   "source": [
    "**(Bonus) Exo 8: Can you train a Neural Network for the steam data? is it better?**"
   ]
  },
  {
   "cell_type": "code",
   "execution_count": null,
   "metadata": {
    "collapsed": true
   },
   "outputs": [],
   "source": []
  }
 ],
 "metadata": {
  "kernelspec": {
   "display_name": "Python 3",
   "language": "python",
   "name": "python3"
  },
  "language_info": {
   "codemirror_mode": {
    "name": "ipython",
    "version": 3
   },
   "file_extension": ".py",
   "mimetype": "text/x-python",
   "name": "python",
   "nbconvert_exporter": "python",
   "pygments_lexer": "ipython3",
   "version": "3.6.3"
  }
 },
 "nbformat": 4,
 "nbformat_minor": 1
}
