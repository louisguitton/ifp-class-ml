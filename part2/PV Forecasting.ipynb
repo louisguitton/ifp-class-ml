{
 "cells": [
  {
   "cell_type": "markdown",
   "metadata": {},
   "source": [
    "Installation Packages"
   ]
  },
  {
   "cell_type": "code",
   "execution_count": 1,
   "metadata": {
    "collapsed": false
   },
   "outputs": [],
   "source": [
    "import pandas as pd\n",
    "import matplotlib.pyplot as plt\n",
    "import datetime\n",
    "import pvlib\n",
    "from pvlib.forecast import GFS, NAM, NDFD, HRRR, RAP"
   ]
  },
  {
   "cell_type": "code",
   "execution_count": 3,
   "metadata": {
    "collapsed": false
   },
   "outputs": [
    {
     "name": "stderr",
     "output_type": "stream",
     "text": [
      "/Users/basilebouquet/Documents/Python/PV_FX/lib/python2.7/site-packages/pvlib/forecast.py:22: UserWarning: The forecast module algorithms and features are highly experimental. The API may change, the functionality may be consolidated into an io module, or the module may be separated into its own package.\n",
      "  'module, or the module may be separated into its own package.')\n"
     ]
    }
   ],
   "source": [
    "from pvlib.forecast import GFS"
   ]
  },
  {
   "cell_type": "code",
   "execution_count": 4,
   "metadata": {
    "collapsed": true
   },
   "outputs": [],
   "source": [
    "import seaborn as sns; sns.set_color_codes()"
   ]
  },
  {
   "cell_type": "code",
   "execution_count": 5,
   "metadata": {
    "collapsed": true
   },
   "outputs": [],
   "source": [
    "from pvlib.forecast import GFS, NAM, NDFD, HRRR, RAP"
   ]
  },
  {
   "cell_type": "code",
   "execution_count": 6,
   "metadata": {
    "collapsed": true
   },
   "outputs": [],
   "source": [
    "latitude, longitude, tz = 32.2, -110.9, 'US/Arizona'"
   ]
  },
  {
   "cell_type": "code",
   "execution_count": 7,
   "metadata": {
    "collapsed": true
   },
   "outputs": [],
   "source": [
    "start = pd.Timestamp(datetime.date.today(), tz=tz)\n",
    "end = start + pd.Timedelta(days=7)\n",
    "irrad_vars = ['ghi', 'dni', 'dhi']"
   ]
  },
  {
   "cell_type": "code",
   "execution_count": 8,
   "metadata": {
    "collapsed": false
   },
   "outputs": [
    {
     "name": "stdout",
     "output_type": "stream",
     "text": [
      "                           Downward_Short-Wave_Radiation_Flux_surface_Mixed_intervals_Average  \\\n",
      "2017-06-01 09:00:00-07:00                                                0.0                    \n",
      "2017-06-01 12:00:00-07:00                                                0.0                    \n",
      "2017-06-01 15:00:00-07:00                                              200.0                    \n",
      "2017-06-01 18:00:00-07:00                                              493.0                    \n",
      "2017-06-01 21:00:00-07:00                                             1040.0                    \n",
      "\n",
      "                           Temperature_surface  \\\n",
      "2017-06-01 09:00:00-07:00                293.5   \n",
      "2017-06-01 12:00:00-07:00                292.0   \n",
      "2017-06-01 15:00:00-07:00                304.5   \n",
      "2017-06-01 18:00:00-07:00                316.0   \n",
      "2017-06-01 21:00:00-07:00                317.5   \n",
      "\n",
      "                           Total_cloud_cover_boundary_layer_cloud_Mixed_intervals_Average  \\\n",
      "2017-06-01 09:00:00-07:00                                                0.0                \n",
      "2017-06-01 12:00:00-07:00                                                0.0                \n",
      "2017-06-01 15:00:00-07:00                                                0.0                \n",
      "2017-06-01 18:00:00-07:00                                                0.0                \n",
      "2017-06-01 21:00:00-07:00                                                0.0                \n",
      "\n",
      "                           Total_cloud_cover_convective_cloud  \\\n",
      "2017-06-01 09:00:00-07:00                                 0.0   \n",
      "2017-06-01 12:00:00-07:00                                 0.0   \n",
      "2017-06-01 15:00:00-07:00                                 0.0   \n",
      "2017-06-01 18:00:00-07:00                                 0.0   \n",
      "2017-06-01 21:00:00-07:00                                 0.0   \n",
      "\n",
      "                           Total_cloud_cover_entire_atmosphere_Mixed_intervals_Average  \\\n",
      "2017-06-01 09:00:00-07:00                                               97.0             \n",
      "2017-06-01 12:00:00-07:00                                               96.0             \n",
      "2017-06-01 15:00:00-07:00                                               52.0             \n",
      "2017-06-01 18:00:00-07:00                                               56.0             \n",
      "2017-06-01 21:00:00-07:00                                                6.0             \n",
      "\n",
      "                           Total_cloud_cover_high_cloud_Mixed_intervals_Average  \\\n",
      "2017-06-01 09:00:00-07:00                                               97.0      \n",
      "2017-06-01 12:00:00-07:00                                               96.0      \n",
      "2017-06-01 15:00:00-07:00                                               52.0      \n",
      "2017-06-01 18:00:00-07:00                                               56.0      \n",
      "2017-06-01 21:00:00-07:00                                                7.0      \n",
      "\n",
      "                           Total_cloud_cover_low_cloud_Mixed_intervals_Average  \\\n",
      "2017-06-01 09:00:00-07:00                                                0.0     \n",
      "2017-06-01 12:00:00-07:00                                                0.0     \n",
      "2017-06-01 15:00:00-07:00                                                0.0     \n",
      "2017-06-01 18:00:00-07:00                                                0.0     \n",
      "2017-06-01 21:00:00-07:00                                                0.0     \n",
      "\n",
      "                           Total_cloud_cover_middle_cloud_Mixed_intervals_Average  \\\n",
      "2017-06-01 09:00:00-07:00                                                0.0        \n",
      "2017-06-01 12:00:00-07:00                                                0.0        \n",
      "2017-06-01 15:00:00-07:00                                                1.0        \n",
      "2017-06-01 18:00:00-07:00                                                1.0        \n",
      "2017-06-01 21:00:00-07:00                                                1.0        \n",
      "\n",
      "                           Wind_speed_gust_surface  \\\n",
      "2017-06-01 09:00:00-07:00                      2.0   \n",
      "2017-06-01 12:00:00-07:00                      3.1   \n",
      "2017-06-01 15:00:00-07:00                      4.4   \n",
      "2017-06-01 18:00:00-07:00                      6.2   \n",
      "2017-06-01 21:00:00-07:00                      6.5   \n",
      "\n",
      "                           u-component_of_wind_isobaric  \\\n",
      "2017-06-01 09:00:00-07:00                          0.07   \n",
      "2017-06-01 12:00:00-07:00                          0.34   \n",
      "2017-06-01 15:00:00-07:00                         -2.41   \n",
      "2017-06-01 18:00:00-07:00                         -0.01   \n",
      "2017-06-01 21:00:00-07:00                          2.15   \n",
      "\n",
      "                           v-component_of_wind_isobaric  \n",
      "2017-06-01 09:00:00-07:00                          1.97  \n",
      "2017-06-01 12:00:00-07:00                          3.08  \n",
      "2017-06-01 15:00:00-07:00                          2.07  \n",
      "2017-06-01 18:00:00-07:00                          4.97  \n",
      "2017-06-01 21:00:00-07:00                          5.72  \n"
     ]
    }
   ],
   "source": [
    "model = GFS()\n",
    "raw_data = model.get_data(latitude, longitude, start, end)\n",
    "print(raw_data.head())"
   ]
  },
  {
   "cell_type": "code",
   "execution_count": 9,
   "metadata": {
    "collapsed": false
   },
   "outputs": [
    {
     "name": "stdout",
     "output_type": "stream",
     "text": [
      "                            temp_air  wind_speed         ghi         dni  \\\n",
      "2017-06-01 09:00:00-07:00  20.350006    1.971243  258.775655   18.271178   \n",
      "2017-06-01 12:00:00-07:00  18.850006    3.098709  382.713505   22.869109   \n",
      "2017-06-01 15:00:00-07:00  31.350006    3.176948  541.312880  192.059614   \n",
      "2017-06-01 18:00:00-07:00  42.850006    4.970010  148.700513  170.154591   \n",
      "2017-06-01 21:00:00-07:00  44.350006    6.110720    0.000000    0.000000   \n",
      "\n",
      "                                  dhi  total_clouds  low_clouds  mid_clouds  \\\n",
      "2017-06-01 09:00:00-07:00  245.973363          97.0         0.0         0.0   \n",
      "2017-06-01 12:00:00-07:00  360.274059          96.0         0.0         0.0   \n",
      "2017-06-01 15:00:00-07:00  386.760039          52.0         0.0         1.0   \n",
      "2017-06-01 18:00:00-07:00  101.951364          56.0         0.0         1.0   \n",
      "2017-06-01 21:00:00-07:00    0.000000           6.0         0.0         1.0   \n",
      "\n",
      "                           high_clouds  \n",
      "2017-06-01 09:00:00-07:00         97.0  \n",
      "2017-06-01 12:00:00-07:00         96.0  \n",
      "2017-06-01 15:00:00-07:00         52.0  \n",
      "2017-06-01 18:00:00-07:00         56.0  \n",
      "2017-06-01 21:00:00-07:00          7.0  \n"
     ]
    }
   ],
   "source": [
    "data = model.get_processed_data(latitude, longitude, start, end)\n",
    "print(data.head())"
   ]
  },
  {
   "cell_type": "code",
   "execution_count": 10,
   "metadata": {
    "collapsed": true
   },
   "outputs": [],
   "source": [
    "cloud_vars = ['total_clouds', 'low_clouds','mid_clouds', 'high_clouds']"
   ]
  },
  {
   "cell_type": "code",
   "execution_count": 14,
   "metadata": {
    "collapsed": true
   },
   "outputs": [],
   "source": [
    "data[cloud_vars].plot();\n",
    "plt.ylabel('Cloud cover %');\n",
    "plt.xlabel('Forecast Time ({})'.format(tz));\n",
    "plt.legend();\n",
    "plt.show()"
   ]
  },
  {
   "cell_type": "code",
   "execution_count": 16,
   "metadata": {
    "collapsed": false
   },
   "outputs": [
    {
     "name": "stderr",
     "output_type": "stream",
     "text": [
      "/Users/basilebouquet/Documents/Python/PV_FX/lib/python2.7/site-packages/pvlib/pvsystem.py:1303: RuntimeWarning: divide by zero encountered in log\n",
      "  module['Voco'] + module['Cells_in_Series']*delta*np.log(Ee) +\n",
      "/Users/basilebouquet/Documents/Python/PV_FX/lib/python2.7/site-packages/pvlib/pvsystem.py:1309: RuntimeWarning: divide by zero encountered in log\n",
      "  module['C3']*module['Cells_in_Series']*((delta*np.log(Ee)) ** 2) +\n"
     ]
    }
   ],
   "source": [
    "from pvlib.pvsystem import PVSystem, retrieve_sam\n",
    "from pvlib.tracking import SingleAxisTracker\n",
    "from pvlib.modelchain import ModelChain\n",
    "\n",
    "sandia_modules = retrieve_sam('sandiamod')\n",
    "cec_inverters = retrieve_sam('cecinverter')\n",
    "module = sandia_modules['Canadian_Solar_CS5P_220M___2009_']\n",
    "inverter = cec_inverters['SMA_America__SC630CP_US_315V__CEC_2012_']\n",
    "\n",
    "# model a big tracker for more fun\n",
    "system = SingleAxisTracker(module_parameters=module,inverter_parameters=inverter,modules_per_string=15,strings_per_inverter=300)\n",
    "\n",
    "# fx is a common abbreviation for forecast\n",
    "fx_model = GFS()\n",
    "fx_data = fx_model.get_processed_data(latitude, longitude, start, end)\n",
    "\n",
    "# use a ModelChain object to calculate modeling intermediates\n",
    "mc = ModelChain(system, fx_model.location)\n",
    "\n",
    "# extract relevant data for model chain\n",
    "mc.run_model(fx_data.index, weather=fx_data);\n"
   ]
  },
  {
   "cell_type": "code",
   "execution_count": null,
   "metadata": {
    "collapsed": false
   },
   "outputs": [],
   "source": [
    "mc.ac.plot();\n",
    "plt.ylim(0, None);\n",
    "plt.ylabel('AC Power (W)');\n",
    "plt.show()"
   ]
  },
  {
   "cell_type": "code",
   "execution_count": null,
   "metadata": {
    "collapsed": true
   },
   "outputs": [],
   "source": [
    "1+1"
   ]
  },
  {
   "cell_type": "code",
   "execution_count": null,
   "metadata": {
    "collapsed": true
   },
   "outputs": [],
   "source": []
  }
 ],
 "metadata": {
  "kernelspec": {
   "display_name": "Python 2",
   "language": "python",
   "name": "python2"
  },
  "language_info": {
   "codemirror_mode": {
    "name": "ipython",
    "version": 2
   },
   "file_extension": ".py",
   "mimetype": "text/x-python",
   "name": "python",
   "nbconvert_exporter": "python",
   "pygments_lexer": "ipython2",
   "version": "2.7.11"
  }
 },
 "nbformat": 4,
 "nbformat_minor": 0
}
