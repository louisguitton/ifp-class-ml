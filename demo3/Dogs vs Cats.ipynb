{
 "cells": [
  {
   "cell_type": "code",
   "execution_count": 59,
   "metadata": {
    "collapsed": false
   },
   "outputs": [],
   "source": [
    "\"\"\"\n",
    "\n",
    "https://blog.keras.io/building-powerful-image-classification-models-using-very-little-data.html\n",
    "\n",
    "\"\"\"\n",
    "import os\n",
    "import h5py\n",
    "import numpy as np\n",
    "import random\n",
    "import json\n",
    "from PIL import Image\n",
    "\n",
    "from scipy.misc import imresize\n",
    "from scipy.spatial import distance\n",
    "from sklearn.decomposition import PCA\n",
    "from sklearn.manifold import TSNE\n",
    "\n",
    "from keras.preprocessing.image import ImageDataGenerator, array_to_img, img_to_array, load_img\n",
    "from keras.models import Sequential\n",
    "from keras.layers import Conv2D, MaxPooling2D, ZeroPadding2D\n",
    "from keras.layers import Activation, Dropout, Flatten, Dense\n",
    "from keras.optimizers import SGD\n",
    "from keras import backend as K\n",
    "from keras import applications\n",
    "\n",
    "import matplotlib.pyplot as plt\n",
    "from matplotlib.pyplot import imshow"
   ]
  },
  {
   "cell_type": "code",
   "execution_count": 47,
   "metadata": {
    "collapsed": false
   },
   "outputs": [
    {
     "data": {
      "text/plain": [
       "'channels_last'"
      ]
     },
     "execution_count": 47,
     "metadata": {},
     "output_type": "execute_result"
    }
   ],
   "source": [
    "K.image_data_format()"
   ]
  },
  {
   "cell_type": "markdown",
   "metadata": {},
   "source": [
    "# Our setup: only 2000 training examples (1000 per class)\n",
    "It uses data that can be downloaded at:\n",
    "https://www.kaggle.com/c/dogs-vs-cats/data"
   ]
  },
  {
   "cell_type": "markdown",
   "metadata": {},
   "source": [
    "# Training a small convnet from scratch: 80% accuracy in 40 lines of code"
   ]
  },
  {
   "cell_type": "code",
   "execution_count": 48,
   "metadata": {
    "collapsed": true
   },
   "outputs": [],
   "source": [
    "# dimensions of our images.\n",
    "img_width, img_height = 150, 150\n",
    "\n",
    "train_data_dir = './data/train'\n",
    "validation_data_dir = './data/validation'\n",
    "nb_train_samples = 2000\n",
    "nb_validation_samples = 800\n",
    "epochs = 50\n",
    "batch_size = 16"
   ]
  },
  {
   "cell_type": "code",
   "execution_count": 49,
   "metadata": {
    "collapsed": true
   },
   "outputs": [],
   "source": [
    "if K.image_data_format() == 'channels_first':\n",
    "    input_shape = (3, img_width, img_height)\n",
    "else:\n",
    "    input_shape = (img_width, img_height, 3)"
   ]
  },
  {
   "cell_type": "code",
   "execution_count": 50,
   "metadata": {
    "collapsed": false
   },
   "outputs": [],
   "source": [
    "model = Sequential()\n",
    "model.add(Conv2D(32, (3, 3), input_shape=input_shape))\n",
    "model.add(Activation('relu'))\n",
    "model.add(MaxPooling2D(pool_size=(2, 2)))\n",
    "\n",
    "model.add(Conv2D(32, (3, 3)))\n",
    "model.add(Activation('relu'))\n",
    "model.add(MaxPooling2D(pool_size=(2, 2)))\n",
    "\n",
    "model.add(Conv2D(64, (3, 3)))\n",
    "model.add(Activation('relu'))\n",
    "model.add(MaxPooling2D(pool_size=(2, 2)))\n",
    "\n",
    "model.add(Flatten())\n",
    "model.add(Dense(64))\n",
    "model.add(Activation('relu'))\n",
    "model.add(Dropout(0.5))\n",
    "model.add(Dense(1))\n",
    "model.add(Activation('sigmoid'))\n",
    "\n",
    "model.compile(loss='binary_crossentropy',\n",
    "              optimizer='rmsprop',\n",
    "              metrics=['accuracy'])"
   ]
  },
  {
   "cell_type": "code",
   "execution_count": 51,
   "metadata": {
    "collapsed": true
   },
   "outputs": [],
   "source": [
    "# this is the augmentation configuration we will use for training\n",
    "train_datagen = ImageDataGenerator(\n",
    "        rescale=1./255,\n",
    "        shear_range=0.2,\n",
    "        zoom_range=0.2,\n",
    "        horizontal_flip=True)\n",
    "\n",
    "# this is the augmentation configuration we will use for testing:\n",
    "# only rescaling\n",
    "test_datagen = ImageDataGenerator(rescale=1./255)"
   ]
  },
  {
   "cell_type": "code",
   "execution_count": 52,
   "metadata": {
    "collapsed": false
   },
   "outputs": [
    {
     "name": "stdout",
     "output_type": "stream",
     "text": [
      "Found 2000 images belonging to 2 classes.\n",
      "Found 800 images belonging to 2 classes.\n"
     ]
    }
   ],
   "source": [
    "train_generator = train_datagen.flow_from_directory(\n",
    "    train_data_dir,\n",
    "    target_size=(img_width, img_height),\n",
    "    batch_size=batch_size,\n",
    "    class_mode='binary')\n",
    "\n",
    "validation_generator = test_datagen.flow_from_directory(\n",
    "    validation_data_dir,\n",
    "    target_size=(img_width, img_height),\n",
    "    batch_size=batch_size,\n",
    "    class_mode='binary')"
   ]
  },
  {
   "cell_type": "code",
   "execution_count": 53,
   "metadata": {
    "collapsed": false
   },
   "outputs": [
    {
     "name": "stdout",
     "output_type": "stream",
     "text": [
      "Epoch 1/50\n",
      "125/125 [==============================] - 48s - loss: 0.7271 - acc: 0.5265 - val_loss: 0.6771 - val_acc: 0.5400\n",
      "Epoch 2/50\n",
      "125/125 [==============================] - 46s - loss: 0.6764 - acc: 0.5930 - val_loss: 0.6358 - val_acc: 0.6288\n",
      "Epoch 3/50\n",
      "125/125 [==============================] - 46s - loss: 0.6338 - acc: 0.6470 - val_loss: 0.5953 - val_acc: 0.6937\n",
      "Epoch 4/50\n",
      "125/125 [==============================] - 46s - loss: 0.5979 - acc: 0.6965 - val_loss: 0.5418 - val_acc: 0.7125\n",
      "Epoch 5/50\n",
      "125/125 [==============================] - 45s - loss: 0.5862 - acc: 0.6955 - val_loss: 0.7112 - val_acc: 0.6200\n",
      "Epoch 6/50\n",
      "125/125 [==============================] - 47s - loss: 0.5542 - acc: 0.7270 - val_loss: 0.5456 - val_acc: 0.7200\n",
      "Epoch 7/50\n",
      "125/125 [==============================] - 47s - loss: 0.5453 - acc: 0.7295 - val_loss: 0.5383 - val_acc: 0.7275\n",
      "Epoch 8/50\n",
      "125/125 [==============================] - 45s - loss: 0.5394 - acc: 0.7380 - val_loss: 0.5684 - val_acc: 0.7275\n",
      "Epoch 9/50\n",
      "125/125 [==============================] - 45s - loss: 0.5244 - acc: 0.7510 - val_loss: 0.4890 - val_acc: 0.7775\n",
      "Epoch 10/50\n",
      "125/125 [==============================] - 44s - loss: 0.5206 - acc: 0.7575 - val_loss: 0.6027 - val_acc: 0.7000\n",
      "Epoch 11/50\n",
      "125/125 [==============================] - 41s - loss: 0.5115 - acc: 0.7545 - val_loss: 0.4869 - val_acc: 0.7650\n",
      "Epoch 12/50\n",
      "125/125 [==============================] - 41s - loss: 0.4973 - acc: 0.7745 - val_loss: 0.4876 - val_acc: 0.7788\n",
      "Epoch 13/50\n",
      "125/125 [==============================] - 42s - loss: 0.4883 - acc: 0.7770 - val_loss: 0.4898 - val_acc: 0.7625\n",
      "Epoch 14/50\n",
      "125/125 [==============================] - 42s - loss: 0.4741 - acc: 0.7870 - val_loss: 0.5605 - val_acc: 0.7450\n",
      "Epoch 15/50\n",
      "125/125 [==============================] - 43s - loss: 0.4721 - acc: 0.7865 - val_loss: 0.4989 - val_acc: 0.7788\n",
      "Epoch 16/50\n",
      "125/125 [==============================] - 43s - loss: 0.4750 - acc: 0.7810 - val_loss: 0.4708 - val_acc: 0.7775\n",
      "Epoch 17/50\n",
      "125/125 [==============================] - 43s - loss: 0.4624 - acc: 0.7885 - val_loss: 0.5300 - val_acc: 0.7375\n",
      "Epoch 18/50\n",
      "125/125 [==============================] - 43s - loss: 0.4560 - acc: 0.7985 - val_loss: 0.4535 - val_acc: 0.8075\n",
      "Epoch 19/50\n",
      "125/125 [==============================] - 44s - loss: 0.4344 - acc: 0.7995 - val_loss: 0.5134 - val_acc: 0.7625\n",
      "Epoch 20/50\n",
      "125/125 [==============================] - 45s - loss: 0.4387 - acc: 0.8125 - val_loss: 0.5131 - val_acc: 0.7650\n",
      "Epoch 21/50\n",
      "125/125 [==============================] - 45s - loss: 0.4340 - acc: 0.8065 - val_loss: 0.4622 - val_acc: 0.8037\n",
      "Epoch 22/50\n",
      "125/125 [==============================] - 45s - loss: 0.4373 - acc: 0.8160 - val_loss: 0.5011 - val_acc: 0.7937\n",
      "Epoch 23/50\n",
      "125/125 [==============================] - 45s - loss: 0.4266 - acc: 0.8185 - val_loss: 0.4844 - val_acc: 0.7975\n",
      "Epoch 24/50\n",
      "125/125 [==============================] - 43s - loss: 0.4123 - acc: 0.8170 - val_loss: 0.5059 - val_acc: 0.7950\n",
      "Epoch 25/50\n",
      "125/125 [==============================] - 42s - loss: 0.4080 - acc: 0.8275 - val_loss: 0.5521 - val_acc: 0.7488\n",
      "Epoch 26/50\n",
      "125/125 [==============================] - 41s - loss: 0.4003 - acc: 0.8390 - val_loss: 0.6411 - val_acc: 0.7462\n",
      "Epoch 27/50\n",
      "125/125 [==============================] - 42s - loss: 0.4037 - acc: 0.8210 - val_loss: 0.6227 - val_acc: 0.7788\n",
      "Epoch 28/50\n",
      "125/125 [==============================] - 41s - loss: 0.4107 - acc: 0.8250 - val_loss: 0.4784 - val_acc: 0.7612\n",
      "Epoch 29/50\n",
      "125/125 [==============================] - 41s - loss: 0.4090 - acc: 0.8270 - val_loss: 0.4785 - val_acc: 0.7887\n",
      "Epoch 30/50\n",
      "125/125 [==============================] - 45s - loss: 0.3943 - acc: 0.8275 - val_loss: 0.5071 - val_acc: 0.7937\n",
      "Epoch 31/50\n",
      "125/125 [==============================] - 45s - loss: 0.4026 - acc: 0.8205 - val_loss: 0.5128 - val_acc: 0.7775\n",
      "Epoch 32/50\n",
      "125/125 [==============================] - 46s - loss: 0.4040 - acc: 0.8230 - val_loss: 0.5626 - val_acc: 0.7987\n",
      "Epoch 33/50\n",
      "125/125 [==============================] - 46s - loss: 0.3977 - acc: 0.8310 - val_loss: 0.5893 - val_acc: 0.7850\n",
      "Epoch 34/50\n",
      "125/125 [==============================] - 44s - loss: 0.4082 - acc: 0.8315 - val_loss: 0.5528 - val_acc: 0.7863\n",
      "Epoch 35/50\n",
      "125/125 [==============================] - 44s - loss: 0.4156 - acc: 0.8275 - val_loss: 0.5182 - val_acc: 0.8025\n",
      "Epoch 36/50\n",
      "125/125 [==============================] - 45s - loss: 0.3985 - acc: 0.8355 - val_loss: 0.4656 - val_acc: 0.8075\n",
      "Epoch 37/50\n",
      "125/125 [==============================] - 45s - loss: 0.3829 - acc: 0.8415 - val_loss: 0.5006 - val_acc: 0.8025\n",
      "Epoch 38/50\n",
      "125/125 [==============================] - 45s - loss: 0.3973 - acc: 0.8320 - val_loss: 0.5825 - val_acc: 0.7700\n",
      "Epoch 39/50\n",
      "125/125 [==============================] - 45s - loss: 0.3692 - acc: 0.8460 - val_loss: 0.5725 - val_acc: 0.7825\n",
      "Epoch 40/50\n",
      "125/125 [==============================] - 46s - loss: 0.3985 - acc: 0.8320 - val_loss: 0.5419 - val_acc: 0.7800\n",
      "Epoch 41/50\n",
      "125/125 [==============================] - 45s - loss: 0.3906 - acc: 0.8405 - val_loss: 0.5541 - val_acc: 0.8063\n",
      "Epoch 42/50\n",
      "125/125 [==============================] - 46s - loss: 0.3800 - acc: 0.8360 - val_loss: 0.7418 - val_acc: 0.7412\n",
      "Epoch 43/50\n",
      "125/125 [==============================] - 46s - loss: 0.3905 - acc: 0.8435 - val_loss: 0.4670 - val_acc: 0.7775\n",
      "Epoch 44/50\n",
      "125/125 [==============================] - 46s - loss: 0.3955 - acc: 0.8390 - val_loss: 0.5984 - val_acc: 0.8175\n",
      "Epoch 45/50\n",
      "125/125 [==============================] - 47s - loss: 0.4004 - acc: 0.8420 - val_loss: 0.5574 - val_acc: 0.7987\n",
      "Epoch 46/50\n",
      "125/125 [==============================] - 46s - loss: 0.3876 - acc: 0.8370 - val_loss: 0.5681 - val_acc: 0.7837\n",
      "Epoch 47/50\n",
      "125/125 [==============================] - 44s - loss: 0.3859 - acc: 0.8375 - val_loss: 0.5138 - val_acc: 0.8050\n",
      "Epoch 48/50\n",
      "125/125 [==============================] - 44s - loss: 0.3751 - acc: 0.8455 - val_loss: 0.6166 - val_acc: 0.7712\n",
      "Epoch 49/50\n",
      "125/125 [==============================] - 44s - loss: 0.3894 - acc: 0.8285 - val_loss: 0.5788 - val_acc: 0.7875\n",
      "Epoch 50/50\n",
      "125/125 [==============================] - 44s - loss: 0.3920 - acc: 0.8405 - val_loss: 0.4785 - val_acc: 0.8000\n"
     ]
    },
    {
     "data": {
      "text/plain": [
       "<keras.callbacks.History at 0x7f25efbb6a58>"
      ]
     },
     "execution_count": 53,
     "metadata": {},
     "output_type": "execute_result"
    }
   ],
   "source": [
    "model.fit_generator(\n",
    "    train_generator,\n",
    "    steps_per_epoch=nb_train_samples // batch_size,\n",
    "    epochs=epochs,\n",
    "    validation_data=validation_generator,\n",
    "    validation_steps=nb_validation_samples // batch_size)"
   ]
  },
  {
   "cell_type": "code",
   "execution_count": 56,
   "metadata": {
    "collapsed": true
   },
   "outputs": [],
   "source": [
    "model.save_weights('./first_try.h5')"
   ]
  },
  {
   "cell_type": "code",
   "execution_count": 57,
   "metadata": {
    "collapsed": false
   },
   "outputs": [],
   "source": [
    "model.load_weights('./first_try.h5')"
   ]
  },
  {
   "cell_type": "code",
   "execution_count": 58,
   "metadata": {
    "collapsed": false
   },
   "outputs": [
    {
     "name": "stdout",
     "output_type": "stream",
     "text": [
      "1/1 [==============================] - 0s\n",
      "1/1 [==============================] - 0s\n",
      "[[  1.07497712e-16]]\n",
      "1/1 [==============================] - 0s\n",
      "1/1 [==============================] - 0s\n",
      "[[ 1.]]\n",
      "1/1 [==============================] - 0s\n",
      "1/1 [==============================] - 0s\n",
      "[[ 1.]]\n",
      "1/1 [==============================] - 0s\n",
      "1/1 [==============================] - 0s\n",
      "[[ 1.]]\n",
      "1/1 [==============================] - 0s\n",
      "1/1 [==============================] - 0s\n",
      "[[ 1.]]\n",
      "1/1 [==============================] - 0s\n",
      "1/1 [==============================] - 0s\n",
      "[[ 1.]]\n",
      "1/1 [==============================] - 0s\n",
      "1/1 [==============================] - 0s\n",
      "[[ 1.]]\n",
      "1/1 [==============================] - 0s\n",
      "1/1 [==============================] - 0s\n",
      "[[ 1.]]\n",
      "1/1 [==============================] - 0s\n",
      "1/1 [==============================] - 0s\n",
      "[[ 1.]]\n"
     ]
    },
    {
     "data": {
      "image/png": "[encoded data removed]",
      "text/plain": [
       "<matplotlib.figure.Figure at 0x7f25efa9c470>"
      ]
     },
     "metadata": {},
     "output_type": "display_data"
    }
   ],
   "source": [
    "# Create figure with 3x3 sub-plots.\n",
    "fig, axes = plt.subplots(3, 3)\n",
    "fig.subplots_adjust(hspace=0.3, wspace=0.3)\n",
    "\n",
    "for i, ax in enumerate(axes.flat):\n",
    "    path = validation_data_dir + '/cats/' + 'cat.' + str(1000 + i) + '.jpg'\n",
    "\n",
    "    img = load_img(path)\n",
    "    img = imresize(img, size=(img_height, img_width))\n",
    "\n",
    "    ax.imshow(img)\n",
    "\n",
    "    test_x = img_to_array(img).reshape(img_height, img_width, 3)\n",
    "    test_x = test_x.reshape((1,) + test_x.shape)\n",
    "\n",
    "    test_generator = test_datagen.flow(test_x,\n",
    "                                       batch_size=1,\n",
    "                                       shuffle=False)\n",
    "    prediction = model.predict_generator(test_generator, 1)[0][0]\n",
    "    cluster = model.predict_classes(test_x)[0]\n",
    "    print(model.predict_proba(test_x))\n",
    "\n",
    "    ax.set_xlabel(str(cluster) + ' ' + str(prediction))\n",
    "\n",
    "    # Remove ticks from the plot.\n",
    "    ax.set_xticks([])\n",
    "    ax.set_yticks([])\n",
    "\n",
    "# Ensure the plot is shown correctly with multiple plots\n",
    "# in a single Notebook cell.\n",
    "plt.show()"
   ]
  },
  {
   "cell_type": "markdown",
   "metadata": {},
   "source": [
    "# Using the bottleneck features of a pre-trained network: 90% accuracy in a minute"
   ]
  },
  {
   "cell_type": "code",
   "execution_count": 60,
   "metadata": {
    "collapsed": true
   },
   "outputs": [],
   "source": [
    "# path to the model weights file.\n",
    "base = './transferLearning/'\n",
    "# weights_path = base + 'vgg16_weights.h5'\n",
    "\n",
    "# dimensions of our images.\n",
    "img_width, img_height = 150, 150\n",
    "\n",
    "top_model_weights_path = base + 'bottleneck_fc_model.h5'\n",
    "train_data_dir = 'data/train'\n",
    "validation_data_dir = 'data/validation'\n",
    "nb_train_samples = 2000\n",
    "nb_validation_samples = 800\n",
    "epochs = 50\n",
    "batch_size = 16"
   ]
  },
  {
   "cell_type": "code",
   "execution_count": 70,
   "metadata": {
    "collapsed": true
   },
   "outputs": [],
   "source": [
    "def save_bottlebeck_features():\n",
    "    datagen = ImageDataGenerator(rescale=1. / 255)\n",
    "\n",
    "    # build the VGG16 network\n",
    "    model = applications.VGG16(include_top=False, weights='imagenet')\n",
    "\n",
    "    generator = datagen.flow_from_directory(\n",
    "        train_data_dir,\n",
    "        target_size=(img_width, img_height),\n",
    "        batch_size=batch_size,\n",
    "        class_mode=None,\n",
    "        shuffle=False)\n",
    "    bottleneck_features_train = model.predict_generator(\n",
    "        generator, nb_train_samples // batch_size)\n",
    "    np.save(open(base + 'bottleneck_features_train.npy', 'wb'),\n",
    "            bottleneck_features_train)\n",
    "\n",
    "    generator = datagen.flow_from_directory(\n",
    "        validation_data_dir,\n",
    "        target_size=(img_width, img_height),\n",
    "        batch_size=batch_size,\n",
    "        class_mode=None,\n",
    "        shuffle=False)\n",
    "    bottleneck_features_validation = model.predict_generator(\n",
    "        generator, nb_validation_samples // batch_size)\n",
    "    np.save(open(base + 'bottleneck_features_validation.npy', 'wb'),\n",
    "            bottleneck_features_validation)"
   ]
  },
  {
   "cell_type": "code",
   "execution_count": 75,
   "metadata": {
    "collapsed": true
   },
   "outputs": [],
   "source": [
    "def train_top_model():\n",
    "    train_data = np.load(open(base + 'bottleneck_features_train.npy', 'rb'))\n",
    "    train_labels = np.array(\n",
    "        [0] * int(nb_train_samples / 2) + [1] * int(nb_train_samples / 2))\n",
    "\n",
    "    validation_data = np.load(open(base + 'bottleneck_features_validation.npy', 'rb'))\n",
    "    validation_labels = np.array(\n",
    "        [0] * int(nb_validation_samples / 2) + [1] * int(nb_validation_samples / 2))\n",
    "\n",
    "    model = Sequential()\n",
    "    model.add(Flatten(input_shape=train_data.shape[1:]))\n",
    "    model.add(Dense(256, activation='relu'))\n",
    "    model.add(Dropout(0.5))\n",
    "    model.add(Dense(1, activation='sigmoid'))\n",
    "\n",
    "    model.compile(optimizer='rmsprop',\n",
    "                  loss='binary_crossentropy', metrics=['accuracy'])\n",
    "\n",
    "    model.fit(train_data, train_labels,\n",
    "              epochs=epochs,\n",
    "              batch_size=batch_size,\n",
    "              validation_data=(validation_data, validation_labels))\n",
    "    model.save_weights(top_model_weights_path)"
   ]
  },
  {
   "cell_type": "code",
   "execution_count": 71,
   "metadata": {
    "collapsed": false
   },
   "outputs": [
    {
     "name": "stdout",
     "output_type": "stream",
     "text": [
      "Found 2000 images belonging to 2 classes.\n",
      "Found 800 images belonging to 2 classes.\n"
     ]
    }
   ],
   "source": [
    "save_bottlebeck_features()"
   ]
  },
  {
   "cell_type": "code",
   "execution_count": 76,
   "metadata": {
    "collapsed": false
   },
   "outputs": [
    {
     "name": "stdout",
     "output_type": "stream",
     "text": [
      "Train on 2000 samples, validate on 800 samples\n",
      "Epoch 1/50\n",
      "2000/2000 [==============================] - 3s - loss: 0.8058 - acc: 0.7520 - val_loss: 0.5141 - val_acc: 0.7963\n",
      "Epoch 2/50\n",
      "2000/2000 [==============================] - 2s - loss: 0.3771 - acc: 0.8560 - val_loss: 0.2373 - val_acc: 0.9038\n",
      "Epoch 3/50\n",
      "2000/2000 [==============================] - 2s - loss: 0.3322 - acc: 0.8725 - val_loss: 0.2679 - val_acc: 0.8988\n",
      "Epoch 4/50\n",
      "2000/2000 [==============================] - 2s - loss: 0.2916 - acc: 0.8850 - val_loss: 0.2783 - val_acc: 0.9025\n",
      "Epoch 5/50\n",
      "2000/2000 [==============================] - 3s - loss: 0.2504 - acc: 0.9055 - val_loss: 0.3513 - val_acc: 0.8862\n",
      "Epoch 6/50\n",
      "2000/2000 [==============================] - 3s - loss: 0.2411 - acc: 0.9145 - val_loss: 0.3040 - val_acc: 0.9025\n",
      "Epoch 7/50\n",
      "2000/2000 [==============================] - 3s - loss: 0.2164 - acc: 0.9135 - val_loss: 0.7029 - val_acc: 0.8037\n",
      "Epoch 8/50\n",
      "2000/2000 [==============================] - 3s - loss: 0.1789 - acc: 0.9365 - val_loss: 0.3375 - val_acc: 0.9000\n",
      "Epoch 9/50\n",
      "2000/2000 [==============================] - 3s - loss: 0.1602 - acc: 0.9430 - val_loss: 0.4035 - val_acc: 0.8962\n",
      "Epoch 10/50\n",
      "2000/2000 [==============================] - 3s - loss: 0.1476 - acc: 0.9490 - val_loss: 0.3696 - val_acc: 0.9025\n",
      "Epoch 11/50\n",
      "2000/2000 [==============================] - 3s - loss: 0.1321 - acc: 0.9525 - val_loss: 0.4108 - val_acc: 0.9025\n",
      "Epoch 12/50\n",
      "2000/2000 [==============================] - 3s - loss: 0.1167 - acc: 0.9575 - val_loss: 0.4068 - val_acc: 0.8950\n",
      "Epoch 13/50\n",
      "2000/2000 [==============================] - 3s - loss: 0.0951 - acc: 0.9665 - val_loss: 0.4753 - val_acc: 0.8925\n",
      "Epoch 14/50\n",
      "2000/2000 [==============================] - 3s - loss: 0.0979 - acc: 0.9665 - val_loss: 0.5946 - val_acc: 0.8775\n",
      "Epoch 15/50\n",
      "2000/2000 [==============================] - 3s - loss: 0.1073 - acc: 0.9665 - val_loss: 0.4759 - val_acc: 0.8988\n",
      "Epoch 16/50\n",
      "2000/2000 [==============================] - 3s - loss: 0.0707 - acc: 0.9760 - val_loss: 0.7867 - val_acc: 0.8700\n",
      "Epoch 17/50\n",
      "2000/2000 [==============================] - 3s - loss: 0.0667 - acc: 0.9780 - val_loss: 0.6949 - val_acc: 0.8775\n",
      "Epoch 18/50\n",
      "2000/2000 [==============================] - 3s - loss: 0.0883 - acc: 0.9725 - val_loss: 0.5960 - val_acc: 0.8900\n",
      "Epoch 19/50\n",
      "2000/2000 [==============================] - 3s - loss: 0.0585 - acc: 0.9810 - val_loss: 0.7685 - val_acc: 0.8938\n",
      "Epoch 20/50\n",
      "2000/2000 [==============================] - 3s - loss: 0.0571 - acc: 0.9785 - val_loss: 0.5717 - val_acc: 0.8938\n",
      "Epoch 21/50\n",
      "2000/2000 [==============================] - 3s - loss: 0.0436 - acc: 0.9835 - val_loss: 0.8815 - val_acc: 0.8825\n",
      "Epoch 22/50\n",
      "2000/2000 [==============================] - 3s - loss: 0.0622 - acc: 0.9810 - val_loss: 0.6455 - val_acc: 0.8912\n",
      "Epoch 23/50\n",
      "2000/2000 [==============================] - 3s - loss: 0.0472 - acc: 0.9850 - val_loss: 0.6637 - val_acc: 0.9038\n",
      "Epoch 24/50\n",
      "2000/2000 [==============================] - 3s - loss: 0.0470 - acc: 0.9835 - val_loss: 1.0351 - val_acc: 0.8712\n",
      "Epoch 25/50\n",
      "2000/2000 [==============================] - 3s - loss: 0.0450 - acc: 0.9880 - val_loss: 0.7434 - val_acc: 0.8975\n",
      "Epoch 26/50\n",
      "2000/2000 [==============================] - 3s - loss: 0.0497 - acc: 0.9845 - val_loss: 0.6975 - val_acc: 0.8975\n",
      "Epoch 27/50\n",
      "2000/2000 [==============================] - 3s - loss: 0.0379 - acc: 0.9890 - val_loss: 1.1898 - val_acc: 0.8525\n",
      "Epoch 28/50\n",
      "2000/2000 [==============================] - 3s - loss: 0.0331 - acc: 0.9900 - val_loss: 0.8448 - val_acc: 0.8862\n",
      "Epoch 29/50\n",
      "2000/2000 [==============================] - 3s - loss: 0.0227 - acc: 0.9920 - val_loss: 1.1102 - val_acc: 0.8750\n",
      "Epoch 30/50\n",
      "2000/2000 [==============================] - 3s - loss: 0.0377 - acc: 0.9890 - val_loss: 1.0406 - val_acc: 0.8788\n",
      "Epoch 31/50\n",
      "2000/2000 [==============================] - 3s - loss: 0.0258 - acc: 0.9925 - val_loss: 0.7844 - val_acc: 0.8925\n",
      "Epoch 32/50\n",
      "2000/2000 [==============================] - 3s - loss: 0.0266 - acc: 0.9920 - val_loss: 1.2151 - val_acc: 0.8638\n",
      "Epoch 33/50\n",
      "2000/2000 [==============================] - 4s - loss: 0.0238 - acc: 0.9925 - val_loss: 0.7798 - val_acc: 0.9000\n",
      "Epoch 34/50\n",
      "2000/2000 [==============================] - 3s - loss: 0.0280 - acc: 0.9935 - val_loss: 0.8085 - val_acc: 0.9025\n",
      "Epoch 35/50\n",
      "2000/2000 [==============================] - 3s - loss: 0.0181 - acc: 0.9940 - val_loss: 0.7791 - val_acc: 0.9012\n",
      "Epoch 36/50\n",
      "2000/2000 [==============================] - 4s - loss: 0.0222 - acc: 0.9935 - val_loss: 0.9645 - val_acc: 0.8900\n",
      "Epoch 37/50\n",
      "2000/2000 [==============================] - 3s - loss: 0.0257 - acc: 0.9925 - val_loss: 0.8425 - val_acc: 0.9000\n",
      "Epoch 38/50\n",
      "2000/2000 [==============================] - 3s - loss: 0.0208 - acc: 0.9920 - val_loss: 0.9595 - val_acc: 0.8950\n",
      "Epoch 39/50\n",
      "2000/2000 [==============================] - 3s - loss: 0.0225 - acc: 0.9920 - val_loss: 0.8141 - val_acc: 0.8988\n",
      "Epoch 40/50\n",
      "2000/2000 [==============================] - 3s - loss: 0.0129 - acc: 0.9960 - val_loss: 0.8911 - val_acc: 0.8975\n",
      "Epoch 41/50\n",
      "2000/2000 [==============================] - 3s - loss: 0.0266 - acc: 0.9935 - val_loss: 0.9161 - val_acc: 0.8988\n",
      "Epoch 42/50\n",
      "2000/2000 [==============================] - 4s - loss: 0.0136 - acc: 0.9965 - val_loss: 1.0101 - val_acc: 0.8812\n",
      "Epoch 43/50\n",
      "2000/2000 [==============================] - 4s - loss: 0.0269 - acc: 0.9945 - val_loss: 0.9312 - val_acc: 0.8950\n",
      "Epoch 44/50\n",
      "2000/2000 [==============================] - 3s - loss: 0.0461 - acc: 0.9920 - val_loss: 0.8792 - val_acc: 0.9012\n",
      "Epoch 45/50\n",
      "2000/2000 [==============================] - 4s - loss: 0.0097 - acc: 0.9980 - val_loss: 0.9401 - val_acc: 0.9038\n",
      "Epoch 46/50\n",
      "2000/2000 [==============================] - 4s - loss: 0.0153 - acc: 0.9965 - val_loss: 0.9085 - val_acc: 0.9050\n",
      "Epoch 47/50\n",
      "2000/2000 [==============================] - 4s - loss: 0.0129 - acc: 0.9960 - val_loss: 1.2241 - val_acc: 0.8800\n",
      "Epoch 48/50\n",
      "2000/2000 [==============================] - 4s - loss: 0.0123 - acc: 0.9970 - val_loss: 0.9684 - val_acc: 0.8988\n",
      "Epoch 49/50\n",
      "2000/2000 [==============================] - 3s - loss: 0.0163 - acc: 0.9970 - val_loss: 0.9056 - val_acc: 0.9038\n",
      "Epoch 50/50\n",
      "2000/2000 [==============================] - 3s - loss: 0.0113 - acc: 0.9965 - val_loss: 1.0825 - val_acc: 0.8900\n"
     ]
    }
   ],
   "source": [
    "train_top_model()"
   ]
  },
  {
   "cell_type": "markdown",
   "metadata": {},
   "source": [
    "# Visualise with t-SNE"
   ]
  },
  {
   "cell_type": "code",
   "execution_count": 77,
   "metadata": {
    "collapsed": true
   },
   "outputs": [],
   "source": [
    "images_path = 'data/train'\n",
    "num_images = 500"
   ]
  },
  {
   "cell_type": "code",
   "execution_count": 88,
   "metadata": {
    "collapsed": true
   },
   "outputs": [],
   "source": [
    "def get_image(path):\n",
    "    img = Image.open(path)\n",
    "    if img.mode != 'RGB':\n",
    "        img = img.convert('RGB')\n",
    "    img = img.resize((224, 224), Image.ANTIALIAS)  # resize the image to fit into VGG-16\n",
    "    img = np.array(img.getdata(), np.uint8)\n",
    "    img = img.reshape(224, 224, 3).astype(np.float32)\n",
    "    img[:,:,0] -= 123.68 # subtract mean (probably unnecessary for t-SNE but good practice)\n",
    "    img[:,:,1] -= 116.779\n",
    "    img[:,:,2] -= 103.939\n",
    "    img = np.expand_dims(img, axis=0)\n",
    "    return img"
   ]
  },
  {
   "cell_type": "code",
   "execution_count": 79,
   "metadata": {
    "collapsed": true
   },
   "outputs": [],
   "source": [
    "model = applications.VGG16(include_top=False, weights='imagenet')"
   ]
  },
  {
   "cell_type": "code",
   "execution_count": 80,
   "metadata": {
    "collapsed": false
   },
   "outputs": [
    {
     "name": "stdout",
     "output_type": "stream",
     "text": [
      "keeping 500 images to analyze\n"
     ]
    }
   ],
   "source": [
    "images = [os.path.join(dp, f) for dp, dn, filenames in os.walk(images_path) for f in filenames if os.path.splitext(f)[1].lower() in ['.jpg','.png','.jpeg']]\n",
    "if num_images < len(images):\n",
    "    images = [images[i] for i in sorted(random.sample(range(len(images)), num_images))]\n",
    "\n",
    "print(\"keeping %d images to analyze\" % len(images))"
   ]
  },
  {
   "cell_type": "code",
   "execution_count": 110,
   "metadata": {
    "collapsed": true
   },
   "outputs": [
    {
     "name": "stdout",
     "output_type": "stream",
     "text": [
      "getting activations for 1/500 data/train/cats/cat.137.jpg\n"
     ]
    },
    {
     "ename": "ValueError",
     "evalue": "Error when checking : expected input_6 to have shape (None, None, None, 3) but got array with shape (1, 3, 224, 224)",
     "output_type": "error",
     "traceback": [
      "\u001b[0;31m---------------------------------------------------------------------------\u001b[0m",
      "\u001b[0;31mValueError\u001b[0m                                Traceback (most recent call last)",
      "\u001b[0;32m<ipython-input-110-5c37e00780e9>\u001b[0m in \u001b[0;36m<module>\u001b[0;34m()\u001b[0m\n\u001b[1;32m      5\u001b[0m     \u001b[0mimage\u001b[0m \u001b[0;34m=\u001b[0m \u001b[0mget_image\u001b[0m\u001b[0;34m(\u001b[0m\u001b[0mimage_path\u001b[0m\u001b[0;34m)\u001b[0m\u001b[0;34m\u001b[0m\u001b[0m\n\u001b[1;32m      6\u001b[0m \u001b[0;31m#     TODO: trouver la bonne activation\u001b[0m\u001b[0;34m\u001b[0m\u001b[0;34m\u001b[0m\u001b[0m\n\u001b[0;32m----> 7\u001b[0;31m     \u001b[0macts\u001b[0m \u001b[0;34m=\u001b[0m \u001b[0mmodel\u001b[0m\u001b[0;34m.\u001b[0m\u001b[0mpredict\u001b[0m\u001b[0;34m(\u001b[0m\u001b[0mimage\u001b[0m\u001b[0;34m)\u001b[0m\u001b[0;34m[\u001b[0m\u001b[0;36m0\u001b[0m\u001b[0;34m]\u001b[0m\u001b[0;34m[\u001b[0m\u001b[0;36m0\u001b[0m\u001b[0;34m]\u001b[0m\u001b[0;34m\u001b[0m\u001b[0m\n\u001b[0m\u001b[1;32m      8\u001b[0m     \u001b[0mactivations\u001b[0m\u001b[0;34m.\u001b[0m\u001b[0mappend\u001b[0m\u001b[0;34m(\u001b[0m\u001b[0macts\u001b[0m\u001b[0;34m)\u001b[0m\u001b[0;34m\u001b[0m\u001b[0m\n",
      "\u001b[0;32m/usr/local/lib/python3.5/dist-packages/keras/engine/training.py\u001b[0m in \u001b[0;36mpredict\u001b[0;34m(self, x, batch_size, verbose)\u001b[0m\n\u001b[1;32m   1552\u001b[0m         x = _standardize_input_data(x, self._feed_input_names,\n\u001b[1;32m   1553\u001b[0m                                     \u001b[0mself\u001b[0m\u001b[0;34m.\u001b[0m\u001b[0m_feed_input_shapes\u001b[0m\u001b[0;34m,\u001b[0m\u001b[0;34m\u001b[0m\u001b[0m\n\u001b[0;32m-> 1554\u001b[0;31m                                     check_batch_axis=False)\n\u001b[0m\u001b[1;32m   1555\u001b[0m         \u001b[0;32mif\u001b[0m \u001b[0mself\u001b[0m\u001b[0;34m.\u001b[0m\u001b[0mstateful\u001b[0m\u001b[0;34m:\u001b[0m\u001b[0;34m\u001b[0m\u001b[0m\n\u001b[1;32m   1556\u001b[0m             \u001b[0;32mif\u001b[0m \u001b[0mx\u001b[0m\u001b[0;34m[\u001b[0m\u001b[0;36m0\u001b[0m\u001b[0;34m]\u001b[0m\u001b[0;34m.\u001b[0m\u001b[0mshape\u001b[0m\u001b[0;34m[\u001b[0m\u001b[0;36m0\u001b[0m\u001b[0;34m]\u001b[0m \u001b[0;34m>\u001b[0m \u001b[0mbatch_size\u001b[0m \u001b[0;32mand\u001b[0m \u001b[0mx\u001b[0m\u001b[0;34m[\u001b[0m\u001b[0;36m0\u001b[0m\u001b[0;34m]\u001b[0m\u001b[0;34m.\u001b[0m\u001b[0mshape\u001b[0m\u001b[0;34m[\u001b[0m\u001b[0;36m0\u001b[0m\u001b[0;34m]\u001b[0m \u001b[0;34m%\u001b[0m \u001b[0mbatch_size\u001b[0m \u001b[0;34m!=\u001b[0m \u001b[0;36m0\u001b[0m\u001b[0;34m:\u001b[0m\u001b[0;34m\u001b[0m\u001b[0m\n",
      "\u001b[0;32m/usr/local/lib/python3.5/dist-packages/keras/engine/training.py\u001b[0m in \u001b[0;36m_standardize_input_data\u001b[0;34m(data, names, shapes, check_batch_axis, exception_prefix)\u001b[0m\n\u001b[1;32m    131\u001b[0m                             \u001b[0;34m' to have shape '\u001b[0m \u001b[0;34m+\u001b[0m \u001b[0mstr\u001b[0m\u001b[0;34m(\u001b[0m\u001b[0mshapes\u001b[0m\u001b[0;34m[\u001b[0m\u001b[0mi\u001b[0m\u001b[0;34m]\u001b[0m\u001b[0;34m)\u001b[0m \u001b[0;34m+\u001b[0m\u001b[0;34m\u001b[0m\u001b[0m\n\u001b[1;32m    132\u001b[0m                             \u001b[0;34m' but got array with shape '\u001b[0m \u001b[0;34m+\u001b[0m\u001b[0;34m\u001b[0m\u001b[0m\n\u001b[0;32m--> 133\u001b[0;31m                             str(array.shape))\n\u001b[0m\u001b[1;32m    134\u001b[0m     \u001b[0;32mreturn\u001b[0m \u001b[0marrays\u001b[0m\u001b[0;34m\u001b[0m\u001b[0m\n\u001b[1;32m    135\u001b[0m \u001b[0;34m\u001b[0m\u001b[0m\n",
      "\u001b[0;31mValueError\u001b[0m: Error when checking : expected input_6 to have shape (None, None, None, 3) but got array with shape (1, 3, 224, 224)"
     ]
    }
   ],
   "source": [
    "activations = []\n",
    "for idx, image_path in enumerate(images):\n",
    "    if idx%100==0:\n",
    "        print(\"getting activations for %d/%d %s\" % (idx+1, len(images), image_path))\n",
    "    image = get_image(image_path)\n",
    "#     TODO: trouver la bonne activation\n",
    "    acts = model.predict(image)[0][0]\n",
    "    activations.append(acts)"
   ]
  },
  {
   "cell_type": "code",
   "execution_count": 91,
   "metadata": {
    "collapsed": true
   },
   "outputs": [
    {
     "ename": "ValueError",
     "evalue": "x and y can be no greater than 2-D, but have shapes (7,) and (7, 7, 512)",
     "output_type": "error",
     "traceback": [
      "\u001b[0;31m---------------------------------------------------------------------------\u001b[0m",
      "\u001b[0;31mValueError\u001b[0m                                Traceback (most recent call last)",
      "\u001b[0;32m<ipython-input-91-b9337288ab22>\u001b[0m in \u001b[0;36m<module>\u001b[0;34m()\u001b[0m\n\u001b[0;32m----> 1\u001b[0;31m \u001b[0mplt\u001b[0m\u001b[0;34m.\u001b[0m\u001b[0mplot\u001b[0m\u001b[0;34m(\u001b[0m\u001b[0mnp\u001b[0m\u001b[0;34m.\u001b[0m\u001b[0marray\u001b[0m\u001b[0;34m(\u001b[0m\u001b[0mactivations\u001b[0m\u001b[0;34m[\u001b[0m\u001b[0;36m0\u001b[0m\u001b[0;34m]\u001b[0m\u001b[0;34m)\u001b[0m\u001b[0;34m)\u001b[0m\u001b[0;34m\u001b[0m\u001b[0m\n\u001b[0m\u001b[1;32m      2\u001b[0m \u001b[0mplt\u001b[0m\u001b[0;34m.\u001b[0m\u001b[0mshow\u001b[0m\u001b[0;34m(\u001b[0m\u001b[0;34m)\u001b[0m\u001b[0;34m\u001b[0m\u001b[0m\n",
      "\u001b[0;32m/usr/local/lib/python3.5/dist-packages/matplotlib/pyplot.py\u001b[0m in \u001b[0;36mplot\u001b[0;34m(*args, **kwargs)\u001b[0m\n\u001b[1;32m   3316\u001b[0m                       mplDeprecation)\n\u001b[1;32m   3317\u001b[0m     \u001b[0;32mtry\u001b[0m\u001b[0;34m:\u001b[0m\u001b[0;34m\u001b[0m\u001b[0m\n\u001b[0;32m-> 3318\u001b[0;31m         \u001b[0mret\u001b[0m \u001b[0;34m=\u001b[0m \u001b[0max\u001b[0m\u001b[0;34m.\u001b[0m\u001b[0mplot\u001b[0m\u001b[0;34m(\u001b[0m\u001b[0;34m*\u001b[0m\u001b[0margs\u001b[0m\u001b[0;34m,\u001b[0m \u001b[0;34m**\u001b[0m\u001b[0mkwargs\u001b[0m\u001b[0;34m)\u001b[0m\u001b[0;34m\u001b[0m\u001b[0m\n\u001b[0m\u001b[1;32m   3319\u001b[0m     \u001b[0;32mfinally\u001b[0m\u001b[0;34m:\u001b[0m\u001b[0;34m\u001b[0m\u001b[0m\n\u001b[1;32m   3320\u001b[0m         \u001b[0max\u001b[0m\u001b[0;34m.\u001b[0m\u001b[0m_hold\u001b[0m \u001b[0;34m=\u001b[0m \u001b[0mwashold\u001b[0m\u001b[0;34m\u001b[0m\u001b[0m\n",
      "\u001b[0;32m/usr/local/lib/python3.5/dist-packages/matplotlib/__init__.py\u001b[0m in \u001b[0;36minner\u001b[0;34m(ax, *args, **kwargs)\u001b[0m\n\u001b[1;32m   1890\u001b[0m                     warnings.warn(msg % (label_namer, func.__name__),\n\u001b[1;32m   1891\u001b[0m                                   RuntimeWarning, stacklevel=2)\n\u001b[0;32m-> 1892\u001b[0;31m             \u001b[0;32mreturn\u001b[0m \u001b[0mfunc\u001b[0m\u001b[0;34m(\u001b[0m\u001b[0max\u001b[0m\u001b[0;34m,\u001b[0m \u001b[0;34m*\u001b[0m\u001b[0margs\u001b[0m\u001b[0;34m,\u001b[0m \u001b[0;34m**\u001b[0m\u001b[0mkwargs\u001b[0m\u001b[0;34m)\u001b[0m\u001b[0;34m\u001b[0m\u001b[0m\n\u001b[0m\u001b[1;32m   1893\u001b[0m         \u001b[0mpre_doc\u001b[0m \u001b[0;34m=\u001b[0m \u001b[0minner\u001b[0m\u001b[0;34m.\u001b[0m\u001b[0m__doc__\u001b[0m\u001b[0;34m\u001b[0m\u001b[0m\n\u001b[1;32m   1894\u001b[0m         \u001b[0;32mif\u001b[0m \u001b[0mpre_doc\u001b[0m \u001b[0;32mis\u001b[0m \u001b[0;32mNone\u001b[0m\u001b[0;34m:\u001b[0m\u001b[0;34m\u001b[0m\u001b[0m\n",
      "\u001b[0;32m/usr/local/lib/python3.5/dist-packages/matplotlib/axes/_axes.py\u001b[0m in \u001b[0;36mplot\u001b[0;34m(self, *args, **kwargs)\u001b[0m\n\u001b[1;32m   1404\u001b[0m         \u001b[0mkwargs\u001b[0m \u001b[0;34m=\u001b[0m \u001b[0mcbook\u001b[0m\u001b[0;34m.\u001b[0m\u001b[0mnormalize_kwargs\u001b[0m\u001b[0;34m(\u001b[0m\u001b[0mkwargs\u001b[0m\u001b[0;34m,\u001b[0m \u001b[0m_alias_map\u001b[0m\u001b[0;34m)\u001b[0m\u001b[0;34m\u001b[0m\u001b[0m\n\u001b[1;32m   1405\u001b[0m \u001b[0;34m\u001b[0m\u001b[0m\n\u001b[0;32m-> 1406\u001b[0;31m         \u001b[0;32mfor\u001b[0m \u001b[0mline\u001b[0m \u001b[0;32min\u001b[0m \u001b[0mself\u001b[0m\u001b[0;34m.\u001b[0m\u001b[0m_get_lines\u001b[0m\u001b[0;34m(\u001b[0m\u001b[0;34m*\u001b[0m\u001b[0margs\u001b[0m\u001b[0;34m,\u001b[0m \u001b[0;34m**\u001b[0m\u001b[0mkwargs\u001b[0m\u001b[0;34m)\u001b[0m\u001b[0;34m:\u001b[0m\u001b[0;34m\u001b[0m\u001b[0m\n\u001b[0m\u001b[1;32m   1407\u001b[0m             \u001b[0mself\u001b[0m\u001b[0;34m.\u001b[0m\u001b[0madd_line\u001b[0m\u001b[0;34m(\u001b[0m\u001b[0mline\u001b[0m\u001b[0;34m)\u001b[0m\u001b[0;34m\u001b[0m\u001b[0m\n\u001b[1;32m   1408\u001b[0m             \u001b[0mlines\u001b[0m\u001b[0;34m.\u001b[0m\u001b[0mappend\u001b[0m\u001b[0;34m(\u001b[0m\u001b[0mline\u001b[0m\u001b[0;34m)\u001b[0m\u001b[0;34m\u001b[0m\u001b[0m\n",
      "\u001b[0;32m/usr/local/lib/python3.5/dist-packages/matplotlib/axes/_base.py\u001b[0m in \u001b[0;36m_grab_next_args\u001b[0;34m(self, *args, **kwargs)\u001b[0m\n\u001b[1;32m    405\u001b[0m                 \u001b[0;32mreturn\u001b[0m\u001b[0;34m\u001b[0m\u001b[0m\n\u001b[1;32m    406\u001b[0m             \u001b[0;32mif\u001b[0m \u001b[0mlen\u001b[0m\u001b[0;34m(\u001b[0m\u001b[0mremaining\u001b[0m\u001b[0;34m)\u001b[0m \u001b[0;34m<=\u001b[0m \u001b[0;36m3\u001b[0m\u001b[0;34m:\u001b[0m\u001b[0;34m\u001b[0m\u001b[0m\n\u001b[0;32m--> 407\u001b[0;31m                 \u001b[0;32mfor\u001b[0m \u001b[0mseg\u001b[0m \u001b[0;32min\u001b[0m \u001b[0mself\u001b[0m\u001b[0;34m.\u001b[0m\u001b[0m_plot_args\u001b[0m\u001b[0;34m(\u001b[0m\u001b[0mremaining\u001b[0m\u001b[0;34m,\u001b[0m \u001b[0mkwargs\u001b[0m\u001b[0;34m)\u001b[0m\u001b[0;34m:\u001b[0m\u001b[0;34m\u001b[0m\u001b[0m\n\u001b[0m\u001b[1;32m    408\u001b[0m                     \u001b[0;32myield\u001b[0m \u001b[0mseg\u001b[0m\u001b[0;34m\u001b[0m\u001b[0m\n\u001b[1;32m    409\u001b[0m                 \u001b[0;32mreturn\u001b[0m\u001b[0;34m\u001b[0m\u001b[0m\n",
      "\u001b[0;32m/usr/local/lib/python3.5/dist-packages/matplotlib/axes/_base.py\u001b[0m in \u001b[0;36m_plot_args\u001b[0;34m(self, tup, kwargs)\u001b[0m\n\u001b[1;32m    383\u001b[0m             \u001b[0mx\u001b[0m\u001b[0;34m,\u001b[0m \u001b[0my\u001b[0m \u001b[0;34m=\u001b[0m \u001b[0mindex_of\u001b[0m\u001b[0;34m(\u001b[0m\u001b[0mtup\u001b[0m\u001b[0;34m[\u001b[0m\u001b[0;34m-\u001b[0m\u001b[0;36m1\u001b[0m\u001b[0;34m]\u001b[0m\u001b[0;34m)\u001b[0m\u001b[0;34m\u001b[0m\u001b[0m\n\u001b[1;32m    384\u001b[0m \u001b[0;34m\u001b[0m\u001b[0m\n\u001b[0;32m--> 385\u001b[0;31m         \u001b[0mx\u001b[0m\u001b[0;34m,\u001b[0m \u001b[0my\u001b[0m \u001b[0;34m=\u001b[0m \u001b[0mself\u001b[0m\u001b[0;34m.\u001b[0m\u001b[0m_xy_from_xy\u001b[0m\u001b[0;34m(\u001b[0m\u001b[0mx\u001b[0m\u001b[0;34m,\u001b[0m \u001b[0my\u001b[0m\u001b[0;34m)\u001b[0m\u001b[0;34m\u001b[0m\u001b[0m\n\u001b[0m\u001b[1;32m    386\u001b[0m \u001b[0;34m\u001b[0m\u001b[0m\n\u001b[1;32m    387\u001b[0m         \u001b[0;32mif\u001b[0m \u001b[0mself\u001b[0m\u001b[0;34m.\u001b[0m\u001b[0mcommand\u001b[0m \u001b[0;34m==\u001b[0m \u001b[0;34m'plot'\u001b[0m\u001b[0;34m:\u001b[0m\u001b[0;34m\u001b[0m\u001b[0m\n",
      "\u001b[0;32m/usr/local/lib/python3.5/dist-packages/matplotlib/axes/_base.py\u001b[0m in \u001b[0;36m_xy_from_xy\u001b[0;34m(self, x, y)\u001b[0m\n\u001b[1;32m    245\u001b[0m         \u001b[0;32mif\u001b[0m \u001b[0mx\u001b[0m\u001b[0;34m.\u001b[0m\u001b[0mndim\u001b[0m \u001b[0;34m>\u001b[0m \u001b[0;36m2\u001b[0m \u001b[0;32mor\u001b[0m \u001b[0my\u001b[0m\u001b[0;34m.\u001b[0m\u001b[0mndim\u001b[0m \u001b[0;34m>\u001b[0m \u001b[0;36m2\u001b[0m\u001b[0;34m:\u001b[0m\u001b[0;34m\u001b[0m\u001b[0m\n\u001b[1;32m    246\u001b[0m             raise ValueError(\"x and y can be no greater than 2-D, but have \"\n\u001b[0;32m--> 247\u001b[0;31m                              \"shapes {} and {}\".format(x.shape, y.shape))\n\u001b[0m\u001b[1;32m    248\u001b[0m \u001b[0;34m\u001b[0m\u001b[0m\n\u001b[1;32m    249\u001b[0m         \u001b[0;32mif\u001b[0m \u001b[0mx\u001b[0m\u001b[0;34m.\u001b[0m\u001b[0mndim\u001b[0m \u001b[0;34m==\u001b[0m \u001b[0;36m1\u001b[0m\u001b[0;34m:\u001b[0m\u001b[0;34m\u001b[0m\u001b[0m\n",
      "\u001b[0;31mValueError\u001b[0m: x and y can be no greater than 2-D, but have shapes (7,) and (7, 7, 512)"
     ]
    }
   ],
   "source": [
    "plt.plot(np.array(activations[0]))\n",
    "plt.show()"
   ]
  },
  {
   "cell_type": "code",
   "execution_count": 95,
   "metadata": {
    "collapsed": true
   },
   "outputs": [
    {
     "ename": "ValueError",
     "evalue": "Found array with dim 4. Estimator expected <= 2.",
     "output_type": "error",
     "traceback": [
      "\u001b[0;31m---------------------------------------------------------------------------\u001b[0m",
      "\u001b[0;31mValueError\u001b[0m                                Traceback (most recent call last)",
      "\u001b[0;32m<ipython-input-95-d180adbfdc9b>\u001b[0m in \u001b[0;36m<module>\u001b[0;34m()\u001b[0m\n\u001b[1;32m      2\u001b[0m \u001b[0mactivations\u001b[0m \u001b[0;34m=\u001b[0m \u001b[0mnp\u001b[0m\u001b[0;34m.\u001b[0m\u001b[0marray\u001b[0m\u001b[0;34m(\u001b[0m\u001b[0mactivations\u001b[0m\u001b[0;34m)\u001b[0m\u001b[0;34m\u001b[0m\u001b[0m\n\u001b[1;32m      3\u001b[0m \u001b[0mpca\u001b[0m \u001b[0;34m=\u001b[0m \u001b[0mPCA\u001b[0m\u001b[0;34m(\u001b[0m\u001b[0mn_components\u001b[0m\u001b[0;34m=\u001b[0m\u001b[0;36m300\u001b[0m\u001b[0;34m)\u001b[0m\u001b[0;34m\u001b[0m\u001b[0m\n\u001b[0;32m----> 4\u001b[0;31m \u001b[0mpca\u001b[0m\u001b[0;34m.\u001b[0m\u001b[0mfit\u001b[0m\u001b[0;34m(\u001b[0m\u001b[0mactivations\u001b[0m\u001b[0;34m)\u001b[0m\u001b[0;34m\u001b[0m\u001b[0m\n\u001b[0m\u001b[1;32m      5\u001b[0m \u001b[0mpca_activations\u001b[0m \u001b[0;34m=\u001b[0m \u001b[0mpca\u001b[0m\u001b[0;34m.\u001b[0m\u001b[0mtransform\u001b[0m\u001b[0;34m(\u001b[0m\u001b[0mactivations\u001b[0m\u001b[0;34m)\u001b[0m\u001b[0;34m\u001b[0m\u001b[0m\n",
      "\u001b[0;32m/usr/local/lib/python3.5/dist-packages/sklearn/decomposition/pca.py\u001b[0m in \u001b[0;36mfit\u001b[0;34m(self, X, y)\u001b[0m\n\u001b[1;32m    305\u001b[0m             \u001b[0mReturns\u001b[0m \u001b[0mthe\u001b[0m \u001b[0minstance\u001b[0m \u001b[0mitself\u001b[0m\u001b[0;34m.\u001b[0m\u001b[0;34m\u001b[0m\u001b[0m\n\u001b[1;32m    306\u001b[0m         \"\"\"\n\u001b[0;32m--> 307\u001b[0;31m         \u001b[0mself\u001b[0m\u001b[0;34m.\u001b[0m\u001b[0m_fit\u001b[0m\u001b[0;34m(\u001b[0m\u001b[0mX\u001b[0m\u001b[0;34m)\u001b[0m\u001b[0;34m\u001b[0m\u001b[0m\n\u001b[0m\u001b[1;32m    308\u001b[0m         \u001b[0;32mreturn\u001b[0m \u001b[0mself\u001b[0m\u001b[0;34m\u001b[0m\u001b[0m\n\u001b[1;32m    309\u001b[0m \u001b[0;34m\u001b[0m\u001b[0m\n",
      "\u001b[0;32m/usr/local/lib/python3.5/dist-packages/sklearn/decomposition/pca.py\u001b[0m in \u001b[0;36m_fit\u001b[0;34m(self, X)\u001b[0m\n\u001b[1;32m    344\u001b[0m \u001b[0;34m\u001b[0m\u001b[0m\n\u001b[1;32m    345\u001b[0m         X = check_array(X, dtype=[np.float64], ensure_2d=True,\n\u001b[0;32m--> 346\u001b[0;31m                         copy=self.copy)\n\u001b[0m\u001b[1;32m    347\u001b[0m \u001b[0;34m\u001b[0m\u001b[0m\n\u001b[1;32m    348\u001b[0m         \u001b[0;31m# Handle n_components==None\u001b[0m\u001b[0;34m\u001b[0m\u001b[0;34m\u001b[0m\u001b[0m\n",
      "\u001b[0;32m/usr/local/lib/python3.5/dist-packages/sklearn/utils/validation.py\u001b[0m in \u001b[0;36mcheck_array\u001b[0;34m(array, accept_sparse, dtype, order, copy, force_all_finite, ensure_2d, allow_nd, ensure_min_samples, ensure_min_features, warn_on_dtype, estimator)\u001b[0m\n\u001b[1;32m    403\u001b[0m         \u001b[0;32mif\u001b[0m \u001b[0;32mnot\u001b[0m \u001b[0mallow_nd\u001b[0m \u001b[0;32mand\u001b[0m \u001b[0marray\u001b[0m\u001b[0;34m.\u001b[0m\u001b[0mndim\u001b[0m \u001b[0;34m>=\u001b[0m \u001b[0;36m3\u001b[0m\u001b[0;34m:\u001b[0m\u001b[0;34m\u001b[0m\u001b[0m\n\u001b[1;32m    404\u001b[0m             raise ValueError(\"Found array with dim %d. %s expected <= 2.\"\n\u001b[0;32m--> 405\u001b[0;31m                              % (array.ndim, estimator_name))\n\u001b[0m\u001b[1;32m    406\u001b[0m         \u001b[0;32mif\u001b[0m \u001b[0mforce_all_finite\u001b[0m\u001b[0;34m:\u001b[0m\u001b[0;34m\u001b[0m\u001b[0m\n\u001b[1;32m    407\u001b[0m             \u001b[0m_assert_all_finite\u001b[0m\u001b[0;34m(\u001b[0m\u001b[0marray\u001b[0m\u001b[0;34m)\u001b[0m\u001b[0;34m\u001b[0m\u001b[0m\n",
      "\u001b[0;31mValueError\u001b[0m: Found array with dim 4. Estimator expected <= 2."
     ]
    }
   ],
   "source": [
    "# first run our activations through PCA to get the activations down to 300 dimensions\n",
    "activations = np.array(activations)\n",
    "pca = PCA(n_components=300)\n",
    "pca.fit(activations)\n",
    "pca_activations = pca.transform(activations)"
   ]
  },
  {
   "cell_type": "code",
   "execution_count": null,
   "metadata": {
    "collapsed": true
   },
   "outputs": [],
   "source": [
    "# then run the PCA-projected activations through t-SNE to get our final embedding\n",
    "X = np.array(pca_activations)\n",
    "tsne = TSNE(n_components=2, learning_rate=150, perplexity=30, verbose=2, angle=0.2).fit_transform(X)"
   ]
  },
  {
   "cell_type": "code",
   "execution_count": null,
   "metadata": {
    "collapsed": true
   },
   "outputs": [],
   "source": [
    "# normalize t-sne points to {0,1}\n",
    "tx, ty = tsne[:,0], tsne[:,1]\n",
    "tx = (tx-np.min(tx)) / (np.max(tx) - np.min(tx))\n",
    "ty = (ty-np.min(ty)) / (np.max(ty) - np.min(ty))\n",
    "\n",
    "width = 3000\n",
    "height = 3000\n",
    "max_dim = 100\n",
    "\n",
    "full_image = Image.new('RGB', (width, height))\n",
    "for img, x, y in zip(images, tx, ty):\n",
    "    tile = Image.open(img)\n",
    "    rs = max(1, tile.width/max_dim, tile.height/max_dim)\n",
    "    tile = tile.resize((int(tile.width/rs), int(tile.height/rs)), Image.ANTIALIAS)\n",
    "    full_image.paste(tile, (int((width-max_dim)*x), int((height-max_dim)*y)))\n",
    "\n",
    "plt.figure(figsize = (12,12))\n",
    "imshow(full_image)"
   ]
  },
  {
   "cell_type": "code",
   "execution_count": null,
   "metadata": {
    "collapsed": true
   },
   "outputs": [],
   "source": [
    "full_image.save('tsne_dog_cat.bmp')"
   ]
  }
 ],
 "metadata": {
  "kernelspec": {
   "display_name": "Python 3",
   "language": "python",
   "name": "python3"
  },
  "language_info": {
   "codemirror_mode": {
    "name": "ipython",
    "version": 3
   },
   "file_extension": ".py",
   "mimetype": "text/x-python",
   "name": "python",
   "nbconvert_exporter": "python",
   "pygments_lexer": "ipython3",
   "version": "3.5.2"
  }
 },
 "nbformat": 4,
 "nbformat_minor": 1
}
